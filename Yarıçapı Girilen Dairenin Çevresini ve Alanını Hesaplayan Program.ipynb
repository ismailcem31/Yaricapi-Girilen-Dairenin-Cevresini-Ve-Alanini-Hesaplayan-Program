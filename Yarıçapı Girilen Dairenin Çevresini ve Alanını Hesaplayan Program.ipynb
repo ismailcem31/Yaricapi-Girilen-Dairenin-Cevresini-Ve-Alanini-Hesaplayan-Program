{
 "cells": [
  {
   "cell_type": "code",
   "execution_count": null,
   "id": "5529c292",
   "metadata": {},
   "outputs": [],
   "source": [
    "# Pi sayısını tanımla\n",
    "pi = 3.14159\n",
    " \n",
    "# Kullanıcıdan yarıçapı al\n",
    "yaricap = float(input(\"Lütfen dairenin yarıçapını girin: \"))\n",
    " \n",
    "# Çevreyi hesapla\n",
    "cevre = 2 * pi * yaricap\n",
    " \n",
    "# Alanı hesapla\n",
    "alan = pi * yaricap**2\n",
    " \n",
    "print(\"Dairenin Çevresi:\", cevre)\n",
    "print(\"Dairenin Alanı:\", alan)"
   ]
  }
 ],
 "metadata": {
  "kernelspec": {
   "display_name": "Python 3 (ipykernel)",
   "language": "python",
   "name": "python3"
  },
  "language_info": {
   "codemirror_mode": {
    "name": "ipython",
    "version": 3
   },
   "file_extension": ".py",
   "mimetype": "text/x-python",
   "name": "python",
   "nbconvert_exporter": "python",
   "pygments_lexer": "ipython3",
   "version": "3.11.3"
  }
 },
 "nbformat": 4,
 "nbformat_minor": 5
}
